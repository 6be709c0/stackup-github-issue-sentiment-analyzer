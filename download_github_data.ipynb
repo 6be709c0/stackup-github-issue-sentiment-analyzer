{
 "cells": [
  {
   "cell_type": "code",
   "execution_count": 10,
   "id": "7977f66b-5b79-493d-87c1-c7643920a970",
   "metadata": {},
   "outputs": [],
   "source": [
    "import requests  \n",
    "import json  \n",
    "import os\n",
    "\n",
    "# Check the second block to configure \n",
    "\n",
    "def get_repository_issues(repo_url, output_folder, api_key=None):  \n",
    "    # Check if the output folder exists; if not, create it  \n",
    "    if not os.path.exists(output_folder):  \n",
    "        os.makedirs(output_folder)  \n",
    "      \n",
    "    # Extract the repository owner and name from the URL  \n",
    "    url_parts = repo_url.split('/')  \n",
    "    owner = url_parts[-2]  \n",
    "    repo_name = url_parts[-1]  \n",
    "      \n",
    "    # Set the headers for the request including the API key if provided  \n",
    "    headers = {}  \n",
    "    if api_key:  \n",
    "        headers['Authorization'] = f'token {api_key}'  \n",
    "      \n",
    "    # Make a GET request to the GitHub API to retrieve the list of issues  \n",
    "    api_url = f\"https://api.github.com/repos/{owner}/{repo_name}/issues\"  \n",
    "    response = requests.get(api_url, headers=headers)  \n",
    "      \n",
    "    # Check if the request was successful  \n",
    "    if response.status_code == 200:  \n",
    "        issues = json.loads(response.text)  \n",
    "          \n",
    "        # Iterate over the issues  \n",
    "        for issue in issues:  \n",
    "            issue_dir = os.path.join(output_folder, f\"issue_{issue['number']}\")  \n",
    "              \n",
    "            # Check if the issue directory exists; if not, create it  \n",
    "            if not os.path.exists(issue_dir):  \n",
    "                os.makedirs(issue_dir)  \n",
    "              \n",
    "            # Save the first post content in a text file  \n",
    "            first_post_file = os.path.join(issue_dir, \"first_post.txt\")  \n",
    "            with open(first_post_file, 'w') as f:  \n",
    "                f.write(issue['body'])  \n",
    "              \n",
    "            comments_url = issue['comments_url']  \n",
    "              \n",
    "            # Make a GET request to the comments URL to retrieve the comments  \n",
    "            comments_response = requests.get(comments_url, headers=headers)  \n",
    "              \n",
    "            # Check if the request was successful  \n",
    "            if comments_response.status_code == 200:  \n",
    "                comments = json.loads(comments_response.text)  \n",
    "                  \n",
    "                # Iterate over the comments and save each comment in a separate text file  \n",
    "                for i, comment in enumerate(comments):  \n",
    "                    comment_file = os.path.join(issue_dir, f\"comment_{i+1}.txt\")  \n",
    "                    with open(comment_file, 'w') as f:  \n",
    "                        f.write(comment['body'])  \n",
    "            else:  \n",
    "                print(f\"Error retrieving comments for issue {issue['number']}\")  \n",
    "    else:  \n",
    "        print(\"Error retrieving issues from the repository\")   "
   ]
  },
  {
   "cell_type": "code",
   "execution_count": 13,
   "id": "2cc8643f",
   "metadata": {},
   "outputs": [
    {
     "name": "stdout",
     "output_type": "stream",
     "text": [
      "Error retrieving issues from the repository\n"
     ]
    }
   ],
   "source": [
    "repo_url = \"https://github.com/facebook/react\"  \n",
    "output_folder = \"output\"  \n",
    "\n",
    "# You don't need to use the API KEY if you don't have one, you will use the public one that is rate limited\n",
    "optional_api_key = \"\"  # ghp_...\n",
    "\n",
    "get_repository_issues(repo_url, output_folder, optional_api_key)  "
   ]
  },
  {
   "cell_type": "code",
   "execution_count": null,
   "id": "671298c5",
   "metadata": {},
   "outputs": [],
   "source": []
  }
 ],
 "metadata": {
  "kernelspec": {
   "display_name": "Python 3 (ipykernel)",
   "language": "python",
   "name": "python3"
  },
  "language_info": {
   "codemirror_mode": {
    "name": "ipython",
    "version": 3
   },
   "file_extension": ".py",
   "mimetype": "text/x-python",
   "name": "python",
   "nbconvert_exporter": "python",
   "pygments_lexer": "ipython3",
   "version": "3.10.12"
  }
 },
 "nbformat": 4,
 "nbformat_minor": 5
}
